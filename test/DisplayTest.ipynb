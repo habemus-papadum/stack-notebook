{
 "cells": [
  {
   "cell_type": "code",
   "execution_count": 1,
   "metadata": {},
   "outputs": [
    {
     "data": {
      "text/plain": [
       "8"
      ]
     },
     "metadata": {},
     "output_type": "display_data"
    },
    {
     "data": {
      "text/plain": [
       "\"Hello, World!\""
      ]
     },
     "metadata": {},
     "output_type": "display_data"
    }
   ],
   "source": [
    "3 + 5\n",
    "\"Hello, \" ++ \"World!\""
   ]
  },
  {
   "cell_type": "code",
   "execution_count": 2,
   "metadata": {},
   "outputs": [
    {
     "data": {
      "text/html": [
       "<style>/* Styles used for the Hoogle display in the pager */\n",
       ".hoogle-doc {\n",
       "display: block;\n",
       "padding-bottom: 1.3em;\n",
       "padding-left: 0.4em;\n",
       "}\n",
       ".hoogle-code {\n",
       "display: block;\n",
       "font-family: monospace;\n",
       "white-space: pre;\n",
       "}\n",
       ".hoogle-text {\n",
       "display: block;\n",
       "}\n",
       ".hoogle-name {\n",
       "color: green;\n",
       "font-weight: bold;\n",
       "}\n",
       ".hoogle-head {\n",
       "font-weight: bold;\n",
       "}\n",
       ".hoogle-sub {\n",
       "display: block;\n",
       "margin-left: 0.4em;\n",
       "}\n",
       ".hoogle-package {\n",
       "font-weight: bold;\n",
       "font-style: italic;\n",
       "}\n",
       ".hoogle-module {\n",
       "font-weight: bold;\n",
       "}\n",
       ".hoogle-class {\n",
       "font-weight: bold;\n",
       "}\n",
       ".get-type {\n",
       "color: green;\n",
       "font-weight: bold;\n",
       "font-family: monospace;\n",
       "display: block;\n",
       "white-space: pre-wrap;\n",
       "}\n",
       ".show-type {\n",
       "color: green;\n",
       "font-weight: bold;\n",
       "font-family: monospace;\n",
       "margin-left: 1em;\n",
       "}\n",
       ".mono {\n",
       "font-family: monospace;\n",
       "display: block;\n",
       "}\n",
       ".err-msg {\n",
       "color: red;\n",
       "font-style: italic;\n",
       "font-family: monospace;\n",
       "white-space: pre;\n",
       "display: block;\n",
       "}\n",
       "#unshowable {\n",
       "color: red;\n",
       "font-weight: bold;\n",
       "}\n",
       ".err-msg.in.collapse {\n",
       "padding-top: 0.7em;\n",
       "}\n",
       ".highlight-code {\n",
       "white-space: pre;\n",
       "font-family: monospace;\n",
       "}\n",
       ".suggestion-warning { \n",
       "font-weight: bold;\n",
       "color: rgb(200, 130, 0);\n",
       "}\n",
       ".suggestion-error { \n",
       "font-weight: bold;\n",
       "color: red;\n",
       "}\n",
       ".suggestion-name {\n",
       "font-weight: bold;\n",
       "}\n",
       "</style><span class='get-type'>3 + 3 :: forall a. Num a => a</span>"
      ],
      "text/plain": [
       "3 + 3 :: forall a. Num a => a"
      ]
     },
     "metadata": {},
     "output_type": "display_data"
    }
   ],
   "source": [
    ":ty 3 + 3"
   ]
  },
  {
   "cell_type": "code",
   "execution_count": 3,
   "metadata": {},
   "outputs": [
    {
     "data": {
      "text/plain": [
       "1\n",
       "2\n",
       "3\n",
       "4\n",
       "5"
      ]
     },
     "metadata": {},
     "output_type": "display_data"
    }
   ],
   "source": [
    "import Control.Monad\n",
    "import Control.Concurrent\n",
    "\n",
    "forM_ [1..5] $ \\x -> do\n",
    "  print x\n",
    "  threadDelay $ 200 * 1000"
   ]
  },
  {
   "cell_type": "code",
   "execution_count": 4,
   "metadata": {},
   "outputs": [
    {
     "data": {
      "text/html": [
       "<style>/* Styles used for the Hoogle display in the pager */\n",
       ".hoogle-doc {\n",
       "display: block;\n",
       "padding-bottom: 1.3em;\n",
       "padding-left: 0.4em;\n",
       "}\n",
       ".hoogle-code {\n",
       "display: block;\n",
       "font-family: monospace;\n",
       "white-space: pre;\n",
       "}\n",
       ".hoogle-text {\n",
       "display: block;\n",
       "}\n",
       ".hoogle-name {\n",
       "color: green;\n",
       "font-weight: bold;\n",
       "}\n",
       ".hoogle-head {\n",
       "font-weight: bold;\n",
       "}\n",
       ".hoogle-sub {\n",
       "display: block;\n",
       "margin-left: 0.4em;\n",
       "}\n",
       ".hoogle-package {\n",
       "font-weight: bold;\n",
       "font-style: italic;\n",
       "}\n",
       ".hoogle-module {\n",
       "font-weight: bold;\n",
       "}\n",
       ".hoogle-class {\n",
       "font-weight: bold;\n",
       "}\n",
       ".get-type {\n",
       "color: green;\n",
       "font-weight: bold;\n",
       "font-family: monospace;\n",
       "display: block;\n",
       "white-space: pre-wrap;\n",
       "}\n",
       ".show-type {\n",
       "color: green;\n",
       "font-weight: bold;\n",
       "font-family: monospace;\n",
       "margin-left: 1em;\n",
       "}\n",
       ".mono {\n",
       "font-family: monospace;\n",
       "display: block;\n",
       "}\n",
       ".err-msg {\n",
       "color: red;\n",
       "font-style: italic;\n",
       "font-family: monospace;\n",
       "white-space: pre;\n",
       "display: block;\n",
       "}\n",
       "#unshowable {\n",
       "color: red;\n",
       "font-weight: bold;\n",
       "}\n",
       ".err-msg.in.collapse {\n",
       "padding-top: 0.7em;\n",
       "}\n",
       ".highlight-code {\n",
       "white-space: pre;\n",
       "font-family: monospace;\n",
       "}\n",
       ".suggestion-warning { \n",
       "font-weight: bold;\n",
       "color: rgb(200, 130, 0);\n",
       "}\n",
       ".suggestion-error { \n",
       "font-weight: bold;\n",
       "color: red;\n",
       "}\n",
       ".suggestion-name {\n",
       "font-weight: bold;\n",
       "}\n",
       "</style><div style='font-weight: bold; color:red'>Look!</div>"
      ]
     },
     "metadata": {},
     "output_type": "display_data"
    },
    {
     "data": {
      "text/html": [
       "<style>/* Styles used for the Hoogle display in the pager */\n",
       ".hoogle-doc {\n",
       "display: block;\n",
       "padding-bottom: 1.3em;\n",
       "padding-left: 0.4em;\n",
       "}\n",
       ".hoogle-code {\n",
       "display: block;\n",
       "font-family: monospace;\n",
       "white-space: pre;\n",
       "}\n",
       ".hoogle-text {\n",
       "display: block;\n",
       "}\n",
       ".hoogle-name {\n",
       "color: green;\n",
       "font-weight: bold;\n",
       "}\n",
       ".hoogle-head {\n",
       "font-weight: bold;\n",
       "}\n",
       ".hoogle-sub {\n",
       "display: block;\n",
       "margin-left: 0.4em;\n",
       "}\n",
       ".hoogle-package {\n",
       "font-weight: bold;\n",
       "font-style: italic;\n",
       "}\n",
       ".hoogle-module {\n",
       "font-weight: bold;\n",
       "}\n",
       ".hoogle-class {\n",
       "font-weight: bold;\n",
       "}\n",
       ".get-type {\n",
       "color: green;\n",
       "font-weight: bold;\n",
       "font-family: monospace;\n",
       "display: block;\n",
       "white-space: pre-wrap;\n",
       "}\n",
       ".show-type {\n",
       "color: green;\n",
       "font-weight: bold;\n",
       "font-family: monospace;\n",
       "margin-left: 1em;\n",
       "}\n",
       ".mono {\n",
       "font-family: monospace;\n",
       "display: block;\n",
       "}\n",
       ".err-msg {\n",
       "color: red;\n",
       "font-style: italic;\n",
       "font-family: monospace;\n",
       "white-space: pre;\n",
       "display: block;\n",
       "}\n",
       "#unshowable {\n",
       "color: red;\n",
       "font-weight: bold;\n",
       "}\n",
       ".err-msg.in.collapse {\n",
       "padding-top: 0.7em;\n",
       "}\n",
       ".highlight-code {\n",
       "white-space: pre;\n",
       "font-family: monospace;\n",
       "}\n",
       ".suggestion-warning { \n",
       "font-weight: bold;\n",
       "color: rgb(200, 130, 0);\n",
       "}\n",
       ".suggestion-error { \n",
       "font-weight: bold;\n",
       "color: red;\n",
       "}\n",
       ".suggestion-name {\n",
       "font-weight: bold;\n",
       "}\n",
       "</style><div style='font-weight: bold; color:green'>Look!</div>"
      ]
     },
     "metadata": {},
     "output_type": "display_data"
    },
    {
     "data": {
      "text/html": [
       "<style>/* Styles used for the Hoogle display in the pager */\n",
       ".hoogle-doc {\n",
       "display: block;\n",
       "padding-bottom: 1.3em;\n",
       "padding-left: 0.4em;\n",
       "}\n",
       ".hoogle-code {\n",
       "display: block;\n",
       "font-family: monospace;\n",
       "white-space: pre;\n",
       "}\n",
       ".hoogle-text {\n",
       "display: block;\n",
       "}\n",
       ".hoogle-name {\n",
       "color: green;\n",
       "font-weight: bold;\n",
       "}\n",
       ".hoogle-head {\n",
       "font-weight: bold;\n",
       "}\n",
       ".hoogle-sub {\n",
       "display: block;\n",
       "margin-left: 0.4em;\n",
       "}\n",
       ".hoogle-package {\n",
       "font-weight: bold;\n",
       "font-style: italic;\n",
       "}\n",
       ".hoogle-module {\n",
       "font-weight: bold;\n",
       "}\n",
       ".hoogle-class {\n",
       "font-weight: bold;\n",
       "}\n",
       ".get-type {\n",
       "color: green;\n",
       "font-weight: bold;\n",
       "font-family: monospace;\n",
       "display: block;\n",
       "white-space: pre-wrap;\n",
       "}\n",
       ".show-type {\n",
       "color: green;\n",
       "font-weight: bold;\n",
       "font-family: monospace;\n",
       "margin-left: 1em;\n",
       "}\n",
       ".mono {\n",
       "font-family: monospace;\n",
       "display: block;\n",
       "}\n",
       ".err-msg {\n",
       "color: red;\n",
       "font-style: italic;\n",
       "font-family: monospace;\n",
       "white-space: pre;\n",
       "display: block;\n",
       "}\n",
       "#unshowable {\n",
       "color: red;\n",
       "font-weight: bold;\n",
       "}\n",
       ".err-msg.in.collapse {\n",
       "padding-top: 0.7em;\n",
       "}\n",
       ".highlight-code {\n",
       "white-space: pre;\n",
       "font-family: monospace;\n",
       "}\n",
       ".suggestion-warning { \n",
       "font-weight: bold;\n",
       "color: rgb(200, 130, 0);\n",
       "}\n",
       ".suggestion-error { \n",
       "font-weight: bold;\n",
       "color: red;\n",
       "}\n",
       ".suggestion-name {\n",
       "font-weight: bold;\n",
       "}\n",
       "</style><div style='font-weight: bold; color:blue'>Look!</div>"
      ]
     },
     "metadata": {},
     "output_type": "display_data"
    }
   ],
   "source": [
    "data Color = Red | Green | Blue\n",
    "\n",
    "import IHaskell.Display\n",
    "\n",
    "instance IHaskellDisplay Color where\n",
    "  display color = return $ Display [html code]\n",
    "    where\n",
    "      code = concat [\"<div style='font-weight: bold; color:\"\n",
    "                    , css color\n",
    "                    , \"'>Look!</div>\"]\n",
    "      css Red   = \"red\"\n",
    "      css Blue  = \"blue\"\n",
    "      css Green = \"green\"\n",
    "      \n",
    "Red\n",
    "Green\n",
    "Blue      "
   ]
  },
  {
   "cell_type": "code",
   "execution_count": 5,
   "metadata": {},
   "outputs": [
    {
     "data": {
      "text/plain": [
       "null"
      ]
     },
     "metadata": {},
     "output_type": "display_data"
    },
    {
     "data": {
      "text/plain": [
       "true"
      ]
     },
     "metadata": {},
     "output_type": "display_data"
    },
    {
     "data": {
      "text/plain": [
       "{\n",
       "    \"x\": 3,\n",
       "    \"y\": 2\n",
       "}"
      ]
     },
     "metadata": {},
     "output_type": "display_data"
    }
   ],
   "source": [
    "-- Aeson JSON data types are displayed nicely.\n",
    ":ext OverloadedStrings\n",
    "\n",
    "import Data.Aeson\n",
    "\n",
    "data Coord  = Coord { x :: Double, y :: Double }\n",
    "instance ToJSON Coord where\n",
    "   toJSON (Coord x y) = object [\"x\" .= x, \"y\" .= y]\n",
    "\n",
    "Null\n",
    "Bool True\n",
    "toJSON (Coord 3 2)"
   ]
  },
  {
   "cell_type": "code",
   "execution_count": 6,
   "metadata": {},
   "outputs": [
    {
     "data": {
      "text/html": [
       "<style>/* Styles used for the Hoogle display in the pager */\n",
       ".hoogle-doc {\n",
       "display: block;\n",
       "padding-bottom: 1.3em;\n",
       "padding-left: 0.4em;\n",
       "}\n",
       ".hoogle-code {\n",
       "display: block;\n",
       "font-family: monospace;\n",
       "white-space: pre;\n",
       "}\n",
       ".hoogle-text {\n",
       "display: block;\n",
       "}\n",
       ".hoogle-name {\n",
       "color: green;\n",
       "font-weight: bold;\n",
       "}\n",
       ".hoogle-head {\n",
       "font-weight: bold;\n",
       "}\n",
       ".hoogle-sub {\n",
       "display: block;\n",
       "margin-left: 0.4em;\n",
       "}\n",
       ".hoogle-package {\n",
       "font-weight: bold;\n",
       "font-style: italic;\n",
       "}\n",
       ".hoogle-module {\n",
       "font-weight: bold;\n",
       "}\n",
       ".hoogle-class {\n",
       "font-weight: bold;\n",
       "}\n",
       ".get-type {\n",
       "color: green;\n",
       "font-weight: bold;\n",
       "font-family: monospace;\n",
       "display: block;\n",
       "white-space: pre-wrap;\n",
       "}\n",
       ".show-type {\n",
       "color: green;\n",
       "font-weight: bold;\n",
       "font-family: monospace;\n",
       "margin-left: 1em;\n",
       "}\n",
       ".mono {\n",
       "font-family: monospace;\n",
       "display: block;\n",
       "}\n",
       ".err-msg {\n",
       "color: red;\n",
       "font-style: italic;\n",
       "font-family: monospace;\n",
       "white-space: pre;\n",
       "display: block;\n",
       "}\n",
       "#unshowable {\n",
       "color: red;\n",
       "font-weight: bold;\n",
       "}\n",
       ".err-msg.in.collapse {\n",
       "padding-top: 0.7em;\n",
       "}\n",
       ".highlight-code {\n",
       "white-space: pre;\n",
       "font-family: monospace;\n",
       "}\n",
       ".suggestion-warning { \n",
       "font-weight: bold;\n",
       "color: rgb(200, 130, 0);\n",
       "}\n",
       ".suggestion-error { \n",
       "font-weight: bold;\n",
       "color: red;\n",
       "}\n",
       ".suggestion-name {\n",
       "font-weight: bold;\n",
       "}\n",
       "</style><div style=\"color: red\">\n",
       "    <p>\n",
       "        This is an example of BlazeMarkup syntax.\n",
       "    </p>\n",
       "    <b>\n",
       "        Hello\n",
       "    </b>\n",
       "</div>\n"
      ],
      "text/plain": [
       "<div style=\"color: red\">\n",
       "    <p>\n",
       "        This is an example of BlazeMarkup syntax.\n",
       "    </p>\n",
       "    <b>\n",
       "        Hello\n",
       "    </b>\n",
       "</div>"
      ]
     },
     "metadata": {},
     "output_type": "display_data"
    },
    {
     "data": {
      "text/html": [
       "<style>/* Styles used for the Hoogle display in the pager */\n",
       ".hoogle-doc {\n",
       "display: block;\n",
       "padding-bottom: 1.3em;\n",
       "padding-left: 0.4em;\n",
       "}\n",
       ".hoogle-code {\n",
       "display: block;\n",
       "font-family: monospace;\n",
       "white-space: pre;\n",
       "}\n",
       ".hoogle-text {\n",
       "display: block;\n",
       "}\n",
       ".hoogle-name {\n",
       "color: green;\n",
       "font-weight: bold;\n",
       "}\n",
       ".hoogle-head {\n",
       "font-weight: bold;\n",
       "}\n",
       ".hoogle-sub {\n",
       "display: block;\n",
       "margin-left: 0.4em;\n",
       "}\n",
       ".hoogle-package {\n",
       "font-weight: bold;\n",
       "font-style: italic;\n",
       "}\n",
       ".hoogle-module {\n",
       "font-weight: bold;\n",
       "}\n",
       ".hoogle-class {\n",
       "font-weight: bold;\n",
       "}\n",
       ".get-type {\n",
       "color: green;\n",
       "font-weight: bold;\n",
       "font-family: monospace;\n",
       "display: block;\n",
       "white-space: pre-wrap;\n",
       "}\n",
       ".show-type {\n",
       "color: green;\n",
       "font-weight: bold;\n",
       "font-family: monospace;\n",
       "margin-left: 1em;\n",
       "}\n",
       ".mono {\n",
       "font-family: monospace;\n",
       "display: block;\n",
       "}\n",
       ".err-msg {\n",
       "color: red;\n",
       "font-style: italic;\n",
       "font-family: monospace;\n",
       "white-space: pre;\n",
       "display: block;\n",
       "}\n",
       "#unshowable {\n",
       "color: red;\n",
       "font-weight: bold;\n",
       "}\n",
       ".err-msg.in.collapse {\n",
       "padding-top: 0.7em;\n",
       "}\n",
       ".highlight-code {\n",
       "white-space: pre;\n",
       "font-family: monospace;\n",
       "}\n",
       ".suggestion-warning { \n",
       "font-weight: bold;\n",
       "color: rgb(200, 130, 0);\n",
       "}\n",
       ".suggestion-error { \n",
       "font-weight: bold;\n",
       "color: red;\n",
       "}\n",
       ".suggestion-name {\n",
       "font-weight: bold;\n",
       "}\n",
       "</style><img src=\"https://www.google.com/images/srpr/logo11w.png\" width=\"70\">\n",
       "<img src=\"https://www.google.com/images/srpr/logo11w.png\" width=\"140\">\n",
       "<img src=\"https://www.google.com/images/srpr/logo11w.png\" width=\"210\">\n",
       "<img src=\"https://www.google.com/images/srpr/logo11w.png\" width=\"280\">\n",
       "<img src=\"https://www.google.com/images/srpr/logo11w.png\" width=\"350\">\n"
      ],
      "text/plain": [
       "<img src=\"https://www.google.com/images/srpr/logo11w.png\" width=\"70\">\n",
       "<img src=\"https://www.google.com/images/srpr/logo11w.png\" width=\"140\">\n",
       "<img src=\"https://www.google.com/images/srpr/logo11w.png\" width=\"210\">\n",
       "<img src=\"https://www.google.com/images/srpr/logo11w.png\" width=\"280\">\n",
       "<img src=\"https://www.google.com/images/srpr/logo11w.png\" width=\"350\">"
      ]
     },
     "metadata": {},
     "output_type": "display_data"
    }
   ],
   "source": [
    "-- Small bits of HTML generated via Blaze are displayed.\n",
    "\n",
    "import Prelude hiding (div, id)\n",
    "import Text.Blaze.Html4.Strict hiding (map, style)\n",
    "import Text.Blaze.Html4.Strict.Attributes\n",
    "\n",
    "div ! style \"color: red\" $ do\n",
    "    p \"This is an example of BlazeMarkup syntax.\"\n",
    "    b \"Hello\"\n",
    "    \n",
    "forM [1..5] $ \\size -> do\n",
    "  let s = toValue $ size * 70\n",
    "  img ! src \"https://www.google.com/images/srpr/logo11w.png\" ! width s"
   ]
  },
  {
   "cell_type": "code",
   "execution_count": 7,
   "metadata": {},
   "outputs": [
    {
     "data": {
      "text/html": [
       "<img src=\"data:image/svg+xml;base64,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\"/>"
      ]
     },
     "metadata": {},
     "output_type": "display_data"
    }
   ],
   "source": [
    "-- We can draw diagrams, right in the notebook.\n",
    ":extension NoMonomorphismRestriction FlexibleContexts TypeFamilies\n",
    "import Diagrams.Prelude\n",
    "\n",
    "-- By Brent Yorgey\n",
    "-- Draw a Sierpinski triangle!\n",
    "sierpinski 1 = eqTriangle 1\n",
    "sierpinski n =     s\n",
    "                  ===\n",
    "               (s ||| s) # centerX\n",
    "  where s = sierpinski (n-1)\n",
    "\n",
    "-- The `diagram` function is used to display them in the notebook.\n",
    "diag =    sierpinski 4\n",
    "            # centerXY\n",
    "            # fc black\n",
    "          `atop` square 10\n",
    "                   # fc white\n",
    "diagram diag                   "
   ]
  },
  {
   "cell_type": "code",
   "execution_count": 8,
   "metadata": {},
   "outputs": [
    {
     "data": {
      "image/png": "[encoded data removed]"
     },
     "metadata": {},
     "output_type": "display_data"
    }
   ],
   "source": [
    "rasterDiagram diag"
   ]
  },
  {
   "cell_type": "code",
   "execution_count": 9,
   "metadata": {},
   "outputs": [
    {
     "data": {
      "text/html": [
       "<img src=\"data:image/svg+xml;base64,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\"/>"
      ]
     },
     "metadata": {},
     "output_type": "display_data"
    }
   ],
   "source": [
    "\n",
    "-- We can draw small charts in the notebook.\n",
    "-- This example is taken from the haskell-chart documentation.\n",
    "import Graphics.Rendering.Chart \n",
    "import Data.Default.Class\n",
    "import Control.Lens\n",
    "\n",
    "let values = [\n",
    "     (\"Mexico City\"  , 19.2, 0),\n",
    "     (\"Mumbai\"       , 12.9, 10), \n",
    "     (\"Sydney\"       , 4.3,  0),\n",
    "     (\"London\"       , 8.3,  0), \n",
    "     (\"New York\"     , 8.2,  25)]\n",
    "     \n",
    "pitem (s, v, o) = pitem_value .~ v\n",
    "                $ pitem_label .~ s\n",
    "                $ pitem_offset .~ o\n",
    "                $ def  \n",
    "\n",
    "-- Convert to a renderable in order to display it.\n",
    "toRenderable \n",
    "  $ pie_title .~ \"Relative Population\"\n",
    "  $ pie_plot . pie_data .~ map pitem values\n",
    "  $ def\n",
    "  \n"
   ]
  },
  {
   "cell_type": "code",
   "execution_count": 10,
   "metadata": {},
   "outputs": [
    {
     "data": {},
     "metadata": {},
     "output_type": "display_data"
    }
   ],
   "source": [
    ":doc filterM"
   ]
  },
  {
   "cell_type": "code",
   "execution_count": 11,
   "metadata": {},
   "outputs": [
    {
     "data": {},
     "metadata": {},
     "output_type": "display_data"
    }
   ],
   "source": [
    ":hoogle :: [a] -> [b] -> [(a, b)]"
   ]
  },
  {
   "cell_type": "code",
   "execution_count": 12,
   "metadata": {},
   "outputs": [
    {
     "data": {
      "text/plain": [
       "3"
      ]
     },
     "metadata": {},
     "output_type": "display_data"
    }
   ],
   "source": [
    "1 + 2"
   ]
  }
 ],
 "metadata": {
  "kernelspec": {
   "display_name": "global-project-lts-9.10",
   "language": "Haskell",
   "name": "global-project-lts-9.10"
  },
  "language_info": {
   "codemirror_mode": "ihaskell",
   "file_extension": ".hs",
   "name": "haskell",
   "version": "8.0.2"
  }
 },
 "nbformat": 4,
 "nbformat_minor": 2
}
